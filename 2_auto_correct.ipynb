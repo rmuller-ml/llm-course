{
  "nbformat": 4,
  "nbformat_minor": 0,
  "metadata": {
    "colab": {
      "provenance": []
    },
    "kernelspec": {
      "name": "python3",
      "display_name": "Python 3"
    },
    "language_info": {
      "name": "python"
    }
  },
  "cells": [
    {
      "cell_type": "markdown",
      "source": [
        "# Introduction\n",
        "*how to build an auto-correct using a language model*\n",
        "\n",
        "Example auto-correct: **aplle** -> **apple**\n",
        "\n",
        "**Goal** \n",
        "\n",
        "Language models and how they work.\n",
        "\n",
        "**Sections**:\n",
        "\n",
        "- **Tokenizer:** how to process the word input to be ingested by the language model\n",
        "\n",
        "- **Model training:** how to create and train a Transformer model \n",
        "\n",
        "- **Completions:** how to generate completions \n",
        "\n",
        "- **Auto-correct**: how to build a simple auto-correct "
      ],
      "metadata": {
        "id": "5c7tIDB6fqRh"
      }
    },
    {
      "cell_type": "markdown",
      "source": [
        "# Tokenizer\n",
        "\n",
        "\n",
        "**Theory**\n",
        "\n",
        "A tokenizer has a vocabulary which is the set of all possible inputs that it can process.\n",
        "\n",
        "`vocab = [\"a\", \"b\", \"c\"]`\n",
        "\n",
        "Given an input, it generates the tokenized version as:\n",
        "\n",
        "`Tokenizer(vocabulary=vocab).tokenize(\"aba\")= [0, 1, 0]`\n",
        "\n",
        "A tokenizer can have extra functionality, such as padding to a fixed length:\n",
        "\n",
        "`vocab_pad = [\"\", \"a\", \"b\", \"c\"]`\n",
        "\n",
        "After padding with fixed output length.\n",
        "\n",
        "`Tokenizer(vocabulary=vocab_pad, length=5).tokenize(\"aba\")= [1, 2, 1, 0, 0]`\n",
        "\n",
        "**Practice**\n",
        "\n",
        "In this section:\n",
        "\n",
        "- we load a dataset of more than unique 200,000 words in english\n",
        "- we find all letters (characters) used and create a vocabulary\n",
        "- we build a tokenizer with padding and special characters "
      ],
      "metadata": {
        "id": "ptwlsqKPgTO5"
      }
    },
    {
      "cell_type": "markdown",
      "source": [
        "Loading words in a list (lower-case).\n",
        "\n",
        "Text file can be created using:\n",
        "\n",
        "```\n",
        "cat /usr/share/dict/words > ~/words.txt\n",
        "```\n",
        "\n",
        "then the text file can be uploaded to the notebook."
      ],
      "metadata": {
        "id": "JOY2OinCwFV1"
      }
    },
    {
      "cell_type": "code",
      "execution_count": 1,
      "metadata": {
        "id": "6wg3zUgEsE4E",
        "colab": {
          "base_uri": "https://localhost:8080/"
        },
        "outputId": "edbe05f6-0587-4a66-a875-21bf1e0dd5c9"
      },
      "outputs": [
        {
          "output_type": "stream",
          "name": "stdout",
          "text": [
            "Number of unique words: 235887\n",
            "Longest word has 24 characters.\n"
          ]
        }
      ],
      "source": [
        "words_file = 'words.txt'\n",
        "with open(words_file) as f:\n",
        "    words = list(map(lambda x: x.lower(), f.read().split(\"\\n\")))\n",
        "print(f\"Number of unique words: {len(words)}\")\n",
        "max_characters = max([len(w) for w in words])\n",
        "print(f\"Longest word has {max_characters} characters.\")\n"
      ]
    },
    {
      "cell_type": "markdown",
      "source": [
        "Finding all unique characters. "
      ],
      "metadata": {
        "id": "lySIaM8nxvcw"
      }
    },
    {
      "cell_type": "code",
      "source": [
        "unique_characters = set()\n",
        "for w in words:\n",
        "  for c in w:\n",
        "    unique_characters.add(c)\n",
        "unique_characters = list(unique_characters)\n",
        "unique_characters.sort()\n",
        "print(f\"Unique characters: {unique_characters}\")"
      ],
      "metadata": {
        "colab": {
          "base_uri": "https://localhost:8080/"
        },
        "id": "fif1amOZvxTR",
        "outputId": "9f28e3cb-1355-4385-f5e1-d6165423c2b6"
      },
      "execution_count": 2,
      "outputs": [
        {
          "output_type": "stream",
          "name": "stdout",
          "text": [
            "Unique characters: ['-', 'a', 'b', 'c', 'd', 'e', 'f', 'g', 'h', 'i', 'j', 'k', 'l', 'm', 'n', 'o', 'p', 'q', 'r', 's', 't', 'u', 'v', 'w', 'x', 'y', 'z']\n"
          ]
        }
      ]
    },
    {
      "cell_type": "markdown",
      "source": [
        "**Creating a tokenizer.**\n",
        "\n",
        "\n",
        "We add 2 special characters to the vocabulary representing the beggining of a word (`\":\"`), and end of a word (`\".\"`).\n",
        "\n",
        "2 more characters are added automatically:\n",
        "\n",
        "- padding (index 0) so we can make all the words have the same length after padding\n",
        "- `[UNK]` (index 1) if an input has a charcter not present in the vocabulary, it will be be replaced by the unkown token\n",
        "\n",
        "We also set the fixed size after tokenizer to `max_characters + 3`. `max_characters` represents the longest word. 2 extra characters are needed for beginning and end of word and an extra one to deal if causality (explained later)."
      ],
      "metadata": {
        "id": "e9oFRjBiJeKY"
      }
    },
    {
      "cell_type": "code",
      "source": [
        "from keras.layers import TextVectorization\n",
        "tokenizer = TextVectorization(split=\"character\", \n",
        "                              vocabulary=unique_characters+[':','.'], \n",
        "                              output_sequence_length=max_characters+3,\n",
        "                              standardize=None)"
      ],
      "metadata": {
        "id": "Tlv3T6KR77pU"
      },
      "execution_count": 3,
      "outputs": []
    },
    {
      "cell_type": "code",
      "source": [
        "print(f\"Vocabulary and corresponding integers: \\n{[(i,v) for i,v in enumerate(tokenizer.get_vocabulary())]}\\n\")\n",
        "tokenized_word = tokenizer(\":apple.\")\n",
        "print(f\"\\\"apple\\\" after tokenization and inclusion of beginnining and end of word tokens: \\n{tokenized_word}\")"
      ],
      "metadata": {
        "colab": {
          "base_uri": "https://localhost:8080/"
        },
        "id": "dsXsHqjhLaA7",
        "outputId": "205638e7-ce81-478b-cf89-6c54e375f98e"
      },
      "execution_count": 4,
      "outputs": [
        {
          "output_type": "stream",
          "name": "stdout",
          "text": [
            "Vocabulary and corresponding integers: \n",
            "[(0, ''), (1, '[UNK]'), (2, '-'), (3, 'a'), (4, 'b'), (5, 'c'), (6, 'd'), (7, 'e'), (8, 'f'), (9, 'g'), (10, 'h'), (11, 'i'), (12, 'j'), (13, 'k'), (14, 'l'), (15, 'm'), (16, 'n'), (17, 'o'), (18, 'p'), (19, 'q'), (20, 'r'), (21, 's'), (22, 't'), (23, 'u'), (24, 'v'), (25, 'w'), (26, 'x'), (27, 'y'), (28, 'z'), (29, ':'), (30, '.')]\n",
            "\n",
            "\"apple\" after tokenization and inclusion of beginnining and end of word tokens: \n",
            "[29  3 18 18 14  7 30  0  0  0  0  0  0  0  0  0  0  0  0  0  0  0  0  0\n",
            "  0  0  0]\n"
          ]
        }
      ]
    },
    {
      "cell_type": "markdown",
      "source": [
        "# Model training\n",
        "\n",
        "**Theory**\n",
        "\n",
        "We use a Transformer model which has a simplified interface:\n",
        "\n",
        "`output = transformer(tokenized_input)`\n",
        "\n",
        "The input is a fixed length (`N`) array of integers from 0 to `vocab_size-1` such as:\n",
        "\n",
        "`input = \"bcba\", N = 4, vocab_size = 3, tokenized_input = [1, 2, 1, 0]`\n",
        "\n",
        "The output has shape `N`x`vocab_size`:\n",
        "\n",
        "`output = [[0.0, 0.5, 0.5],`\n",
        "\n",
        "`[0.3, 0.3, 0.4],`\n",
        "\n",
        "`[0.6, 0.2, 0.2],`\n",
        "\n",
        "`[0.1, 0.2, 0.7]]`\n",
        "\n",
        "The output is a conditional probability (of generating a given next character given previous characters):\n",
        "\n",
        "\n",
        "\n",
        "\n",
        "\n",
        "`output[0][0] = `$p(\\text{next character=\"a\"}|\\text{previous characters=\"b\"})$\n",
        "\n",
        "`output[0][1] = `$p(\\text{next character=\"b\"}|\\text{previous characters=\"b\"})$\n",
        "\n",
        "`output[0][2] = `$p(\\text{next character=\"c\"}|\\text{previous characters=\"b\"})$\n",
        "\n",
        "`output[1][0] = `$p(\\text{next character=\"a\"}|\\text{previous characters=\"bc\"})$\n",
        "\n",
        "...\n",
        "\n",
        "\n",
        "\n",
        "If we want our model to generate `\"bcba\"` with higher probability, we need to maximize the following probabilities:\n",
        "\n",
        "$p(\\text{next character=\"c\"}|\\text{previous characters=\"b\"})$,\n",
        "\n",
        "$p(\\text{next character=\"b\"}|\\text{previous characters=\"bc\"})$ and\n",
        "\n",
        "$p(\\text{next character=\"a\"}|\\text{previous characters=\"bcb\"})$\n",
        "\n",
        "So training a model is basically changing the model's *parameters* in the direction of predciting the correct targets for the input examples we care.\n",
        "\n",
        "**Practice**\n",
        "\n",
        "Some additional thigs are needed:\n",
        "\n",
        "1. End of word token (`\".\"`): our model needs to know when to stop generating a word\n",
        "2. Beginning of word token (`\":\"`): so our model can predict the probability of the first character of the word (unconditional probability)\n",
        "3. Batches and fixed size: to process many words at the same time (in batches), we need to force them to have the same length so we add padding\n",
        "4. The next character targets are simply the input word shifted left\n",
        "5. We maximize the probability of generating the correct targets by *minimizing the cross-entropy between the model outputs and the targets* averaged over the whole dataset (loss)\n",
        "\n"
      ],
      "metadata": {
        "id": "NW6QHmCUpzEO"
      }
    },
    {
      "cell_type": "markdown",
      "source": [
        "**Defining the model**\n",
        "\n",
        "Here we use a decoder-only transformer model (details of the model are not very important).\n",
        "\n",
        "The signature of the model is as follows:\n",
        "\n",
        "Inputs have sizes `[batch_size, word_length]` . In our case word length is `max_characters+2` and `batch_size` is the number of words we want to process in parallel at the same time.\n",
        "\n",
        "Outputs have sizes `[batch_size, word_length, vocab_size]`. For each character we output the probability of the next character being the characters in the vocabulary.\n",
        "\n",
        "`mask_zero` is important to ignore the padding (0s).\n"
      ],
      "metadata": {
        "id": "qFTl4ngpNMJj"
      }
    },
    {
      "cell_type": "code",
      "source": [
        "!pip install -q git+https://github.com/keras-team/keras-nlp.git --upgrade\n",
        "import keras_nlp\n",
        "from tensorflow import keras\n",
        "\n",
        "def get_model():\n",
        "  decoder_inputs = keras.Input(shape=(None,), dtype=\"int64\")\n",
        "\n",
        "  token_position_embedding = keras_nlp.layers.TokenAndPositionEmbedding(\n",
        "      vocabulary_size=len(tokenizer.get_vocabulary()),\n",
        "      sequence_length=max_characters+2,\n",
        "      embedding_dim=64,\n",
        "      mask_zero=True,\n",
        "  )(decoder_inputs)\n",
        "\n",
        "  decoder = keras_nlp.layers.TransformerDecoder(\n",
        "      intermediate_dim=64, num_heads=8)(token_position_embedding)\n",
        "  \n",
        "  decoder_outputs = keras.layers.Dense(\n",
        "      len(tokenizer.get_vocabulary()),\n",
        "      activation=\"softmax\")(decoder)\n",
        "\n",
        "  model = keras.Model(decoder_inputs, decoder_outputs)\n",
        "  return model\n",
        "model = get_model()"
      ],
      "metadata": {
        "colab": {
          "base_uri": "https://localhost:8080/"
        },
        "id": "K1zSna4XDchr",
        "outputId": "53eb7101-4dc9-4c86-c355-0b35fae3f37c"
      },
      "execution_count": 5,
      "outputs": [
        {
          "output_type": "stream",
          "name": "stdout",
          "text": [
            "  Preparing metadata (setup.py) ... \u001b[?25l\u001b[?25hdone\n"
          ]
        }
      ]
    },
    {
      "cell_type": "markdown",
      "source": [
        "**Creating the dataset to train the model**\n",
        "\n",
        "We basically add `\":\"` at the beggining of word and `\".\"` at the end for each word. Then we tokenize. Since what we are predicting is the next character, the target is simply the input shifted by one element (that is why we increased the tokenizer output size by one).\n",
        "\n",
        "We then shuffle the words and create batches to be processed in parallel."
      ],
      "metadata": {
        "id": "fRMLHyeaOnCz"
      }
    },
    {
      "cell_type": "code",
      "source": [
        "import tensorflow as tf\n",
        "\n",
        "def preprocess(example):\n",
        "  tokenized = tokenizer(\":\"+example+\".\")\n",
        "  return tokenized[:-1], tokenized[1:] #input, target (shift by 1)\n",
        "\n",
        "BATCH_SIZE=512\n",
        "dataset = tf.data.Dataset.from_tensor_slices(words)\n",
        "dataset = dataset.shuffle(len(words))\n",
        "dataset = dataset.map(preprocess)\n",
        "train_ds = dataset.batch(BATCH_SIZE)\n",
        "eval_ds = dataset.take(int(len(words)*0.1)).batch(BATCH_SIZE)\n"
      ],
      "metadata": {
        "id": "IioOcODeKBhq"
      },
      "execution_count": 6,
      "outputs": []
    },
    {
      "cell_type": "code",
      "source": [
        "for i in train_ds:\n",
        "  print(f\"Input shape: {i[0].shape}\")\n",
        "  print(f\"Output shape: {model(i[0]).shape}\")\n",
        "  print(f\"Example input: {i[0][0]}\")\n",
        "  print(f\"Example target (shifted by one): {i[1][0]}\")\n",
        "  break"
      ],
      "metadata": {
        "colab": {
          "base_uri": "https://localhost:8080/"
        },
        "id": "E0488Xq1OgE-",
        "outputId": "bcfb8bc8-0958-4da5-b707-188b1f561c8c"
      },
      "execution_count": 7,
      "outputs": [
        {
          "output_type": "stream",
          "name": "stdout",
          "text": [
            "Input shape: (512, 26)\n",
            "Output shape: (512, 26, 31)\n",
            "Example input: [29  5  3 16 11 21 11  3 16  3 30  0  0  0  0  0  0  0  0  0  0  0  0  0\n",
            "  0  0]\n",
            "Example target (shifted by one): [ 5  3 16 11 21 11  3 16  3 30  0  0  0  0  0  0  0  0  0  0  0  0  0  0\n",
            "  0  0]\n"
          ]
        }
      ]
    },
    {
      "cell_type": "markdown",
      "source": [
        "**Training the model**\n",
        "\n",
        "Metrics:\n",
        "\n",
        "- Accuracy: the percentage of predictions that correspond to the correct token. Note that it cannot be 100% for this problem, since predicting the first character of a word is impossible (the best you can do is predicting the most frequent first letter in the dataset).\n",
        "\n",
        "- Loss: cross-entropy, the closer to 0 the better. Basically -log(probability of the correct character). If you predict 1 for the correct character, loss for this character is 0. As you predict close to 0 for the correct character, loss goes to infinity (bad).\n",
        "\n",
        "Training corresponds to the process of changing the parameters of the model to minimize the loss (via stochastic gradient descent). At every batch of examples, we calculate a small step in the parameters of the model that reduces the loss for those examples. By seing all examples many times (10 times each: number of epochs) and doing many small steps, accuracy increases and loss decreases."
      ],
      "metadata": {
        "id": "NN5XbpvXQw9_"
      }
    },
    {
      "cell_type": "code",
      "source": [
        "model.compile(\n",
        "    \"adam\", loss=\"sparse_categorical_crossentropy\", metrics=[\"accuracy\"]\n",
        ")\n",
        "model.fit(train_ds, epochs=10, validation_data=eval_ds)"
      ],
      "metadata": {
        "colab": {
          "base_uri": "https://localhost:8080/"
        },
        "id": "iWuQmP0-LlYj",
        "outputId": "c45a7451-90a9-4c2d-b72d-ac5985b834e1"
      },
      "execution_count": 8,
      "outputs": [
        {
          "output_type": "stream",
          "name": "stdout",
          "text": [
            "Epoch 1/10\n",
            "461/461 [==============================] - 173s 366ms/step - loss: 2.2534 - accuracy: 0.2997 - val_loss: 2.1067 - val_accuracy: 0.3307\n",
            "Epoch 2/10\n",
            "461/461 [==============================] - 138s 299ms/step - loss: 2.0537 - accuracy: 0.3475 - val_loss: 2.0069 - val_accuracy: 0.3624\n",
            "Epoch 3/10\n",
            "461/461 [==============================] - 146s 315ms/step - loss: 1.9840 - accuracy: 0.3705 - val_loss: 1.9643 - val_accuracy: 0.3783\n",
            "Epoch 4/10\n",
            "461/461 [==============================] - 140s 304ms/step - loss: 1.9500 - accuracy: 0.3824 - val_loss: 1.9368 - val_accuracy: 0.3863\n",
            "Epoch 5/10\n",
            "461/461 [==============================] - 137s 297ms/step - loss: 1.9297 - accuracy: 0.3885 - val_loss: 1.9180 - val_accuracy: 0.3925\n",
            "Epoch 6/10\n",
            "461/461 [==============================] - 149s 323ms/step - loss: 1.9156 - accuracy: 0.3929 - val_loss: 1.9071 - val_accuracy: 0.3955\n",
            "Epoch 7/10\n",
            "461/461 [==============================] - 134s 289ms/step - loss: 1.9052 - accuracy: 0.3961 - val_loss: 1.8986 - val_accuracy: 0.3986\n",
            "Epoch 8/10\n",
            "461/461 [==============================] - 145s 314ms/step - loss: 1.8965 - accuracy: 0.3987 - val_loss: 1.8899 - val_accuracy: 0.4017\n",
            "Epoch 9/10\n",
            "461/461 [==============================] - 139s 301ms/step - loss: 1.8893 - accuracy: 0.4008 - val_loss: 1.8854 - val_accuracy: 0.4007\n",
            "Epoch 10/10\n",
            "461/461 [==============================] - 143s 310ms/step - loss: 1.8834 - accuracy: 0.4027 - val_loss: 1.8774 - val_accuracy: 0.4048\n"
          ]
        },
        {
          "output_type": "execute_result",
          "data": {
            "text/plain": [
              "<keras.callbacks.History at 0x7f5f668508e0>"
            ]
          },
          "metadata": {},
          "execution_count": 8
        }
      ]
    },
    {
      "cell_type": "code",
      "source": [
        "#@title Plotting helper function\n",
        "def plot_probs(word, word_prediction):\n",
        "  import numpy as np\n",
        "  import matplotlib.pyplot as plt\n",
        "\n",
        "  # Generate a 2D table of probabilities\n",
        "  probs = np.transpose(word_prediction[0,:len(word)+1])\n",
        "\n",
        "  # Set the colormap to go from red to green\n",
        "  cmap = plt.cm.get_cmap('RdYlGn')\n",
        "\n",
        "  # Plot the table\n",
        "  fig, ax = plt.subplots()\n",
        "  fig.set_size_inches(20, 12) \n",
        "  im = ax.imshow(probs, cmap=cmap, vmin=0, vmax=0.5)\n",
        "\n",
        "  # Set the axis labels and title\n",
        "  ax.set_xlabel('Context')\n",
        "  ax.set_ylabel('Probability')\n",
        "  ax.set_title('Probabilities given current context')\n",
        "\n",
        "  # Add a colorbar to show the probability scale\n",
        "  cbar = ax.figure.colorbar(im, ax=ax)\n",
        "  cbar.ax.set_ylabel('Probability', rotation=-90, va=\"bottom\")\n",
        "  ax.set_yticks(np.arange(len(tokenizer.get_vocabulary())))\n",
        "  ax.set_yticklabels(tokenizer.get_vocabulary())\n",
        "  ax.set_xticks(np.arange(len(word)+1))\n",
        "  ax.set_xticklabels([c for c in \":\"+word])\n",
        "  # Show the plot\n",
        "  plt.show()\n"
      ],
      "metadata": {
        "cellView": "form",
        "id": "63kyyOfRBWz3"
      },
      "execution_count": 9,
      "outputs": []
    },
    {
      "cell_type": "markdown",
      "source": [
        "**Example**\n",
        "\n",
        "Seeing probabilities for an untrained model.\n",
        "\n",
        "`word = \"influent\"`\n",
        "\n",
        "We see that probabilities of the correct targets are very low (<0.1)."
      ],
      "metadata": {
        "id": "zlirOpbN9wQc"
      }
    },
    {
      "cell_type": "code",
      "source": [
        "word = \"suspense\"\n",
        "untrained_model = get_model()\n",
        "tokenized_word = tokenizer([\":\"+word+\".\"])[:,:-1]\n",
        "word_prediction = untrained_model(tokenized_word).numpy()\n",
        "for i, c in enumerate(word+'.'):\n",
        "  index = tokenizer.get_vocabulary().index(c)\n",
        "  prob = word_prediction[0,i,index]\n",
        "  print(c, prob)"
      ],
      "metadata": {
        "colab": {
          "base_uri": "https://localhost:8080/"
        },
        "id": "ibfffMd8IGf7",
        "outputId": "a1f8cee9-4559-4ef5-b0e4-4a1032e10737"
      },
      "execution_count": 44,
      "outputs": [
        {
          "output_type": "stream",
          "name": "stdout",
          "text": [
            "s 0.017268935\n",
            "u 0.024576787\n",
            "s 0.01612967\n",
            "p 0.0013490865\n",
            "e 0.0036055818\n",
            "n 0.007735257\n",
            "s 0.040517386\n",
            "e 0.009269094\n",
            ". 0.012285344\n"
          ]
        }
      ]
    },
    {
      "cell_type": "code",
      "source": [
        "plot_probs(word, word_prediction)"
      ],
      "metadata": {
        "colab": {
          "base_uri": "https://localhost:8080/",
          "height": 786
        },
        "id": "RMomGUcnDADW",
        "outputId": "77786916-3ec8-4fbb-e7dc-1f5e39b1e53f"
      },
      "execution_count": 45,
      "outputs": [
        {
          "output_type": "stream",
          "name": "stderr",
          "text": [
            "<ipython-input-9-af3df61d9925>:10: MatplotlibDeprecationWarning: The get_cmap function was deprecated in Matplotlib 3.7 and will be removed two minor releases later. Use ``matplotlib.colormaps[name]`` or ``matplotlib.colormaps.get_cmap(obj)`` instead.\n",
            "  cmap = plt.cm.get_cmap('RdYlGn')\n"
          ]
        },
        {
          "output_type": "display_data",
          "data": {
            "text/plain": [
              "<Figure size 1440x864 with 2 Axes>"
            ],
            "image/png": "[encoded data removed]"
          },
          "metadata": {
            "needs_background": "light"
          }
        }
      ]
    },
    {
      "cell_type": "markdown",
      "source": [
        "**After training**\n",
        "\n",
        "Many probabilities are now >0.1"
      ],
      "metadata": {
        "id": "eGtw6V0j-iia"
      }
    },
    {
      "cell_type": "code",
      "source": [
        "word_prediction_trained = model(tokenized_word).numpy()\n",
        "for i, c in enumerate(word+'.'):\n",
        "  index = tokenizer.get_vocabulary().index(c)\n",
        "  prob = word_prediction_trained[0,i,index]\n",
        "  print(c, prob)"
      ],
      "metadata": {
        "colab": {
          "base_uri": "https://localhost:8080/"
        },
        "id": "srZk3fCtISCL",
        "outputId": "3a0c39a1-db2e-47ae-96c5-6e74a11d81c3"
      },
      "execution_count": 46,
      "outputs": [
        {
          "output_type": "stream",
          "name": "stdout",
          "text": [
            "s 0.109861694\n",
            "u 0.1765371\n",
            "s 0.012084289\n",
            "p 0.11174494\n",
            "e 0.45606142\n",
            "n 0.15477082\n",
            "s 0.13514712\n",
            "e 0.17323653\n",
            ". 0.20991006\n"
          ]
        }
      ]
    },
    {
      "cell_type": "code",
      "source": [
        "plot_probs(word, word_prediction_trained)"
      ],
      "metadata": {
        "colab": {
          "base_uri": "https://localhost:8080/",
          "height": 786
        },
        "id": "3Mfzx-iQFwXA",
        "outputId": "9b8356b2-435c-4f73-b2d1-1fbcb2f76e00"
      },
      "execution_count": 47,
      "outputs": [
        {
          "output_type": "stream",
          "name": "stderr",
          "text": [
            "<ipython-input-9-af3df61d9925>:10: MatplotlibDeprecationWarning: The get_cmap function was deprecated in Matplotlib 3.7 and will be removed two minor releases later. Use ``matplotlib.colormaps[name]`` or ``matplotlib.colormaps.get_cmap(obj)`` instead.\n",
            "  cmap = plt.cm.get_cmap('RdYlGn')\n"
          ]
        },
        {
          "output_type": "display_data",
          "data": {
            "text/plain": [
              "<Figure size 1440x864 with 2 Axes>"
            ],
            "image/png": "[encoded data removed]"
          },
          "metadata": {
            "needs_background": "light"
          }
        }
      ]
    },
    {
      "cell_type": "markdown",
      "source": [
        "# Completion\n",
        "\n",
        "**Practice**\n",
        "\n",
        "If we have a model that can generate good conditional probabilities:\n",
        "\n",
        "$p(\\text{next character}|\\text{previous characters})$\n",
        "\n",
        "we can use it to generate completion suggestions. For example, if the user types `influen`, we pick the next character as  one with the highest probability:\n",
        "\n",
        "$\\text{next_token} = \\text{argmax}_c p(\\text{next character}=c|\\text{previous characters}=\\text{\":influen\"})$\n",
        "\n",
        "Now that we have the next token, we can call the model again with an updated input (including new character) and keep generating until we get the end of work token `\".\"`. This is called **greedy decoding** and it is deterministic.\n",
        "\n",
        "Sometimes, we want to diversify the generations, one way to do this is sample the next character from a distribution defined by the model probabilities instead doing greedy decoding .\n",
        "\n",
        "Example: \n",
        "\n",
        "$p(\\text{next character}|\\text{previous characters}=\\text{\":ca\"})$ = `[(\"t\", 0.9), (\"r\", 0.1), (\"a\", 0.0), ...]`\n",
        "\n",
        "**Greedy**: we always pick `\"t\"` \n",
        "\n",
        "**Sampling**: we pick `\"t\"` 90% of times and `\"r\"` 10% of times\n",
        "\n",
        "**Sampling with temperature**: when temperature is `1.0`, it works as usual sampling. As temperature goes to `0.0`, it behaves more like greedy. As temperature goes to `Inf`, it behaves a a uniform sampler (all characters have same probability of being pick)."
      ],
      "metadata": {
        "id": "bVEgaiSc2ewy"
      }
    },
    {
      "cell_type": "markdown",
      "source": [
        "Seeing next character proabilities"
      ],
      "metadata": {
        "id": "Gh4KltHw-2DG"
      }
    },
    {
      "cell_type": "code",
      "source": [
        "import numpy as np\n",
        "prefix = \"suspens\"\n",
        "tokenized_word = tokenizer([\":\"+prefix+\".\"])[:,:-1]\n",
        "prefix_prediction = model(tokenized_word)\n",
        "next_character_pmf = prefix_prediction[0,len(prefix),:].numpy()\n",
        "top_characters = np.argsort(-next_character_pmf)[:5]\n",
        "print(f\"For prefix \\\"{prefix}\\\", the top 5 next character predictions are:\\n\")\n",
        "print(\"Probability\",\"Next charcater\")\n",
        "for i in top_characters:\n",
        "  print(next_character_pmf[i],tokenizer.get_vocabulary()[i])"
      ],
      "metadata": {
        "colab": {
          "base_uri": "https://localhost:8080/"
        },
        "id": "cVqZJYU5psNb",
        "outputId": "e7b13d99-e9a9-4ad7-a10a-e73196ee514d"
      },
      "execution_count": 53,
      "outputs": [
        {
          "output_type": "stream",
          "name": "stdout",
          "text": [
            "For prefix \"suspens\", the top 5 next character predictions are:\n",
            "\n",
            "Probability Next charcater\n",
            "0.30870304 i\n",
            "0.17323653 e\n",
            "0.121764004 a\n",
            "0.11564232 o\n",
            "0.07562093 u\n"
          ]
        }
      ]
    },
    {
      "cell_type": "markdown",
      "source": [
        "**Implementing greedy decoding**\n",
        "\n",
        "and generating greedy completion."
      ],
      "metadata": {
        "id": "SMBD0WkK-5Ji"
      }
    },
    {
      "cell_type": "code",
      "source": [
        "def greedy_completion(prefix):\n",
        "  tokenized_word = tokenizer([\":\"+prefix+\".\"])[:,:-1]\n",
        "  prefix_prediction = model(tokenized_word)\n",
        "  next_character_pmf = prefix_prediction[0,len(prefix),:].numpy()\n",
        "  return tokenizer.get_vocabulary()[np.argmax(next_character_pmf)]"
      ],
      "metadata": {
        "id": "by_UhH5kkGVT"
      },
      "execution_count": 18,
      "outputs": []
    },
    {
      "cell_type": "code",
      "source": [
        "#greedy\n",
        "completion = \"\"\n",
        "next_character =\"\"\n",
        "while next_character != '.':\n",
        "  print(prefix+completion)\n",
        "  next_character = greedy_completion(prefix+completion)\n",
        "  completion = completion + next_character\n",
        "\n"
      ],
      "metadata": {
        "colab": {
          "base_uri": "https://localhost:8080/"
        },
        "id": "YiYpVettpMr_",
        "outputId": "00892f66-394f-4695-c3ff-ff90df4030e2"
      },
      "execution_count": 42,
      "outputs": [
        {
          "output_type": "stream",
          "name": "stdout",
          "text": [
            "suspens\n",
            "suspensi\n",
            "suspensio\n",
            "suspension\n"
          ]
        }
      ]
    },
    {
      "cell_type": "markdown",
      "source": [
        "**Implementing random decoding**\n",
        "\n",
        "and generating 5 completions."
      ],
      "metadata": {
        "id": "mfqUNvS2_IlB"
      }
    },
    {
      "cell_type": "code",
      "source": [
        "def noisy_completion(prefix, T=1):\n",
        "  tokenized_word = tokenizer([\":\"+prefix+\".\"])[:,:-1]\n",
        "  prefix_prediction = model(tokenized_word)\n",
        "  next_character_pmf = list(prefix_prediction[0,len(prefix),:].numpy())\n",
        "  next_character_pmf = [np.exp(np.log(p)/T) for p in next_character_pmf]\n",
        "  next_character_pmf = [p/sum(next_character_pmf) for p in next_character_pmf]\n",
        "  sampled_caracter = np.argmax(np.random.multinomial(1, next_character_pmf))\n",
        "  return tokenizer.get_vocabulary()[sampled_caracter]"
      ],
      "metadata": {
        "id": "LliDgANlaWMq"
      },
      "execution_count": 20,
      "outputs": []
    },
    {
      "cell_type": "code",
      "source": [
        "# with sampling\n",
        "for _ in range(5):\n",
        "  completion = \"\"\n",
        "  next_character =\"\"\n",
        "  while next_character != '.':\n",
        "    print(prefix+completion)\n",
        "    next_character = noisy_completion(prefix+completion, T=0.5)\n",
        "    completion = completion + next_character\n",
        "  print(\"\")"
      ],
      "metadata": {
        "colab": {
          "base_uri": "https://localhost:8080/"
        },
        "id": "vowt_qKcwuyU",
        "outputId": "b94010cd-a2ce-488a-86c1-993c69827f0d"
      },
      "execution_count": 43,
      "outputs": [
        {
          "output_type": "stream",
          "name": "stdout",
          "text": [
            "suspens\n",
            "suspensi\n",
            "suspensio\n",
            "suspension\n",
            "\n",
            "suspens\n",
            "suspensi\n",
            "suspensiv\n",
            "suspensive\n",
            "\n",
            "suspens\n",
            "suspense\n",
            "\n",
            "suspens\n",
            "suspensi\n",
            "suspensiv\n",
            "suspensive\n",
            "suspensivel\n",
            "suspensively\n",
            "\n",
            "suspens\n",
            "suspenso\n",
            "suspenson\n",
            "suspensoni\n",
            "suspensonia\n",
            "suspensonian\n",
            "\n"
          ]
        }
      ]
    },
    {
      "cell_type": "markdown",
      "source": [
        "# Auto-correct\n",
        "\n",
        "**Theory**\n",
        "\n",
        "**Calculating word probability (likelihood) from characters's conditional probabilities**\n",
        "\n",
        "With the model trained, we can now make predictions for different words.\n",
        "\n",
        "Model inputs\n",
        "\n",
        "\":apple.\"\n",
        "\n",
        "Model outputs\n",
        "\n",
        "\n",
        "- $p(c_1) $\n",
        "- $p(c_2|\\text{input}=\\text{\"a\"})$\n",
        "- $p(c_3|\\text{input}=\\text{\"ap\"})$\n",
        "- $p(c_4|\\text{input}=\\text{\"app\"})$\n",
        "- $p(c_4|\\text{input}=\\text{\"appl\"})$\n",
        "- ...\n",
        "\n",
        "$p(\\text{\"apple.\"}) \\approx \\prod p(c_1=\\text{\"a\"}) p(c_2=\\text{\"p\"}|\\text{input}=\\text{\"a\"})p(c_3=\\text{\"p\"}|\\text{input}=\\text{\"ap\"})...$\n",
        "\n",
        "$\\log(p(\\text{\"apple.\"})) \\approx \\sum \\log(p(c_1=\\text{\"a\"})) \\log(p(c_2=\\text{\"p\"}|\\text{input}=\\text{\"a\"})) \\log(p(c_3=\\text{\"p\"}|\\text{input}=\\text{\"ap\"}))...$\n",
        "\n",
        "So we can calculate the log-likelihood of a given word and see if it has higher likelihood compared to others (the higher the better).\n",
        "\n",
        "**Practice**\n",
        "\n",
        "Using the word likelihood, we can score words. We can simulate character flipping (ex: `spple` to `apple`). And see if the new word has higher likelihood. If we find a high likelihood word, we can suggest to the user as a more probable correct spelling."
      ],
      "metadata": {
        "id": "0CrlQGfB2iwO"
      }
    },
    {
      "cell_type": "markdown",
      "source": [
        "Calculating word log-likelihood."
      ],
      "metadata": {
        "id": "_m25iHdeA0dh"
      }
    },
    {
      "cell_type": "code",
      "source": [
        "import math\n",
        "def get_word_log_likelihood(word):\n",
        "  tokenized_word = tokenizer([\":\"+word+\".\"])[:,:-1]\n",
        "  word_prediction = model(tokenized_word)\n",
        "  characters_probabilities = [word_prediction[0,i,tokenizer.get_vocabulary().index(c)].numpy() for i, c in enumerate(word+'.')]\n",
        "  return sum([math.log(p) for p in characters_probabilities])/len(word) #normalize to word length\n"
      ],
      "metadata": {
        "id": "Yc9Ra9G8Sa-y"
      },
      "execution_count": 22,
      "outputs": []
    },
    {
      "cell_type": "markdown",
      "source": [
        "Test with different corruptions."
      ],
      "metadata": {
        "id": "-U91fDbYA7pa"
      }
    },
    {
      "cell_type": "code",
      "source": [
        "for w, comment in [(\"apple\", \"correct spelling\"), (\"aplle\", \"substitution\"), (\"applye\", \"insertion\"), (\"aple\",\"deletion\")]:\n",
        "  print(f\"The length-normalized log-likelihood of {w} ({comment}) is {get_word_log_likelihood(w)}\")\n"
      ],
      "metadata": {
        "colab": {
          "base_uri": "https://localhost:8080/"
        },
        "id": "P95JyChrS284",
        "outputId": "0aabfdc8-5418-43c3-fb7f-47509339c81e"
      },
      "execution_count": 23,
      "outputs": [
        {
          "output_type": "stream",
          "name": "stdout",
          "text": [
            "The length-normalized log-likelihood of apple (correct spelling) is -2.7263827409474652\n",
            "The length-normalized log-likelihood of aplle (substitution) is -4.06571227163934\n",
            "The length-normalized log-likelihood of applye (insertion) is -3.209841080072183\n",
            "The length-normalized log-likelihood of aple (deletion) is -3.6735034551443597\n"
          ]
        }
      ]
    },
    {
      "cell_type": "markdown",
      "source": [
        "**Autocorrect substitutions**\n",
        "\n",
        "For a given word, calculates the log-likelihood. Try all possible single substitutions (replace first letter to all possible ones, then second, then third...). Get the word with higher likelihood, if it is different than the original, it can be proposed as the correct spelling."
      ],
      "metadata": {
        "id": "Et7yh6-6ZYIk"
      }
    },
    {
      "cell_type": "code",
      "source": [
        "def auto_correct(word):\n",
        "  words_log_likelihoods = []\n",
        "  for i in range(len(word)):\n",
        "    for c in unique_characters:\n",
        "      if c!=word[i]:\n",
        "        new_word = word[:i]+c+word[i+1:] # substitution\n",
        "        words_log_likelihoods.append([get_word_log_likelihood(new_word), new_word])\n",
        "  words_log_likelihoods.append([get_word_log_likelihood(word), word])\n",
        "  words_log_likelihoods.sort(key=lambda x: x[0], reverse=True)\n",
        "  return words_log_likelihoods\n",
        "\n",
        "word = \"aplle\"\n",
        "print(f\"Suggesting 5 spellings for {word}\")\n",
        "auto_correct(word)[:5] # take best 5"
      ],
      "metadata": {
        "colab": {
          "base_uri": "https://localhost:8080/"
        },
        "id": "SDSzqQHOX2eC",
        "outputId": "c311f21d-0db7-4804-fc23-e2f3eca3aa1e"
      },
      "execution_count": 48,
      "outputs": [
        {
          "output_type": "stream",
          "name": "stdout",
          "text": [
            "Suggesting 5 spellings for aplle\n"
          ]
        },
        {
          "output_type": "execute_result",
          "data": {
            "text/plain": [
              "[[-2.7263827409474652, 'apple'],\n",
              " [-2.889606066538758, 'aulle'],\n",
              " [-2.892753246144773, 'apole'],\n",
              " [-2.913354235767755, 'apile'],\n",
              " [-2.9263234224159076, 'aille']]"
            ]
          },
          "metadata": {},
          "execution_count": 48
        }
      ]
    },
    {
      "cell_type": "code",
      "source": [
        "word = \"disasrer\"\n",
        "print(f\"Suggesting 5 spellings for {word}\")\n",
        "auto_correct(word)[:5] # take best 5"
      ],
      "metadata": {
        "colab": {
          "base_uri": "https://localhost:8080/"
        },
        "id": "ckoNppFbLb4d",
        "outputId": "ca60b1b0-9f70-4b70-926f-db893b26b74c"
      },
      "execution_count": 50,
      "outputs": [
        {
          "output_type": "stream",
          "name": "stdout",
          "text": [
            "Suggesting 5 spellings for disasrer\n"
          ]
        },
        {
          "output_type": "execute_result",
          "data": {
            "text/plain": [
              "[[-1.9436105223947586, 'disaster'],\n",
              " [-2.1585220267685883, 'disasper'],\n",
              " [-2.1720079632863243, 'disasser'],\n",
              " [-2.224824480963634, 'disaurer'],\n",
              " [-2.231815737666708, 'disascer']]"
            ]
          },
          "metadata": {},
          "execution_count": 50
        }
      ]
    }
  ]
}