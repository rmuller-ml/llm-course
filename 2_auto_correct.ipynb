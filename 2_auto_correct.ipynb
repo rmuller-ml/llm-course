{
  "cells": [
    {
      "cell_type": "markdown",
      "metadata": {
        "id": "5c7tIDB6fqRh"
      },
      "source": [
        "# Introduction\n",
        "*how to build an auto-correct using a language model*\n",
        "\n",
        "Example auto-correct: **aplle** -> **apple**\n",
        "\n",
        "**Goal** \n",
        "\n",
        "Language models and how they work.\n",
        "\n",
        "**Sections**:\n",
        "\n",
        "- **Tokenizer:** how to process the word input to be ingested by the language model\n",
        "\n",
        "- **Model training:** how to create and train a Transformer model \n",
        "\n",
        "- **Completions:** how to generate completions \n",
        "\n",
        "- **Auto-correct**: how to build a simple auto-correct "
      ]
    },
    {
      "cell_type": "markdown",
      "metadata": {
        "id": "ptwlsqKPgTO5"
      },
      "source": [
        "# Tokenizer\n",
        "\n",
        "\n",
        "**Theory**\n",
        "\n",
        "A tokenizer has a vocabulary which is the set of all possible inputs that it can process.\n",
        "\n",
        "`vocab = [\"a\", \"b\", \"c\"]`\n",
        "\n",
        "Given an input, it generates the tokenized version as:\n",
        "\n",
        "`Tokenizer(vocabulary=vocab).tokenize(\"aba\")= [0, 1, 0]`\n",
        "\n",
        "A tokenizer can have extra functionality, such as padding to a fixed length:\n",
        "\n",
        "`vocab_pad = [\"\", \"a\", \"b\", \"c\"]`\n",
        "\n",
        "After padding with fixed output length.\n",
        "\n",
        "`Tokenizer(vocabulary=vocab_pad, length=5).tokenize(\"aba\")= [1, 2, 1, 0, 0]`\n",
        "\n",
        "**Practice**\n",
        "\n",
        "In this section:\n",
        "\n",
        "- we load a dataset of more than unique 200,000 words in english\n",
        "- we find all letters (characters) used and create a vocabulary\n",
        "- we build a tokenizer with padding and special characters "
      ]
    },
    {
      "cell_type": "markdown",
      "metadata": {
        "id": "JOY2OinCwFV1"
      },
      "source": [
        "Loading words in a list (lower-case).\n",
        "\n",
        "Text file can be created using:\n",
        "\n",
        "```\n",
        "cat /usr/share/dict/words > ~/words.txt\n",
        "```\n",
        "\n",
        "then the text file can be uploaded to the notebook."
      ]
    },
    {
      "cell_type": "code",
      "execution_count": null,
      "metadata": {
        "colab": {
          "base_uri": "https://localhost:8080/"
        },
        "id": "6wg3zUgEsE4E",
        "outputId": "dd05cfab-fc6e-4172-88dd-76d1388c5725"
      },
      "outputs": [
        {
          "name": "stdout",
          "output_type": "stream",
          "text": [
            "Number of unique words: 235887\n",
            "Longest word has 24 characters.\n"
          ]
        }
      ],
      "source": [
        "words_file = 'words.txt'\n",
        "with open(words_file) as f:\n",
        "    words = list(map(lambda x: x.lower(), f.read().split(\"\\n\")))\n",
        "print(f\"Number of unique words: {len(words)}\")\n",
        "max_characters = max([len(w) for w in words])\n",
        "print(f\"Longest word has {max_characters} characters.\")\n"
      ]
    },
    {
      "cell_type": "markdown",
      "metadata": {
        "id": "lySIaM8nxvcw"
      },
      "source": [
        "Finding all unique characters. "
      ]
    },
    {
      "cell_type": "code",
      "execution_count": null,
      "metadata": {
        "colab": {
          "base_uri": "https://localhost:8080/"
        },
        "id": "fif1amOZvxTR",
        "outputId": "7cf4715d-a41e-4108-e6ee-6385128ddd82"
      },
      "outputs": [
        {
          "name": "stdout",
          "output_type": "stream",
          "text": [
            "Unique characters: ['-', 'a', 'b', 'c', 'd', 'e', 'f', 'g', 'h', 'i', 'j', 'k', 'l', 'm', 'n', 'o', 'p', 'q', 'r', 's', 't', 'u', 'v', 'w', 'x', 'y', 'z']\n"
          ]
        }
      ],
      "source": [
        "unique_characters = set()\n",
        "for w in words:\n",
        "  for c in w:\n",
        "    unique_characters.add(c)\n",
        "unique_characters = list(unique_characters)\n",
        "unique_characters.sort()\n",
        "print(f\"Unique characters: {unique_characters}\")"
      ]
    },
    {
      "cell_type": "markdown",
      "metadata": {
        "id": "e9oFRjBiJeKY"
      },
      "source": [
        "**Creating a tokenizer.**\n",
        "\n",
        "\n",
        "We add 2 special characters to the vocabulary representing the beggining of a word (`\":\"`), and end of a word (`\".\"`).\n",
        "\n",
        "2 more characters are added automatically:\n",
        "\n",
        "- padding (index 0) so we can make all the words have the same length after padding\n",
        "- `[UNK]` (index 1) if an input has a charcter not present in the vocabulary, it will be be replaced by the unkown token\n",
        "\n",
        "We also set the fixed size after tokenizer to `max_characters + 1`. `max_characters` represents the longest word. 2 extra characters are needed for beginning."
      ]
    },
    {
      "cell_type": "code",
      "execution_count": null,
      "metadata": {
        "id": "Tlv3T6KR77pU"
      },
      "outputs": [],
      "source": [
        "from keras.layers import TextVectorization\n",
        "tokenizer = TextVectorization(split=\"character\", \n",
        "                              vocabulary=unique_characters+[':','.'], \n",
        "                              output_sequence_length=max_characters+2,\n",
        "                              standardize=None)"
      ]
    },
    {
      "cell_type": "code",
      "execution_count": null,
      "metadata": {
        "colab": {
          "base_uri": "https://localhost:8080/"
        },
        "id": "dsXsHqjhLaA7",
        "outputId": "a300b373-23e2-4f37-e873-9d01e5027e1a"
      },
      "outputs": [
        {
          "name": "stdout",
          "output_type": "stream",
          "text": [
            "Vocabulary and corresponding integers: \n",
            "[(0, ''), (1, '[UNK]'), (2, '-'), (3, 'a'), (4, 'b'), (5, 'c'), (6, 'd'), (7, 'e'), (8, 'f'), (9, 'g'), (10, 'h'), (11, 'i'), (12, 'j'), (13, 'k'), (14, 'l'), (15, 'm'), (16, 'n'), (17, 'o'), (18, 'p'), (19, 'q'), (20, 'r'), (21, 's'), (22, 't'), (23, 'u'), (24, 'v'), (25, 'w'), (26, 'x'), (27, 'y'), (28, 'z'), (29, ':'), (30, '.')]\n",
            "\n",
            "\"apple\" after tokenization and inclusion of beginnining and end of word tokens: \n",
            "[29  3 18 18 14  7 30  0  0  0  0  0  0  0  0  0  0  0  0  0  0  0  0  0\n",
            "  0  0]\n"
          ]
        }
      ],
      "source": [
        "print((f\"Vocabulary and corresponding integers: \\n\"\n",
        "    f\"{[(i,v) for i,v in enumerate(tokenizer.get_vocabulary())]}\\n\"))\n",
        "tokenized_word = tokenizer(\":apple.\")\n",
        "print((f\"\\\"apple\\\" after tokenization and inclusion of \"\n",
        "       f\"beginnining and end of word tokens: \\n{tokenized_word}\"))"
      ]
    },
    {
      "cell_type": "markdown",
      "metadata": {
        "id": "NW6QHmCUpzEO"
      },
      "source": [
        "# Model training\n",
        "\n",
        "**Theory**\n",
        "\n",
        "We use a Transformer model which has a simplified interface:\n",
        "\n",
        "`output = transformer(tokenized_input)`\n",
        "\n",
        "The input is a fixed length (`N`) array of integers from 0 to `vocab_size-1` such as:\n",
        "\n",
        "`input = \"bcba\", N = 4, vocab_size = 3, tokenized_input = [1, 2, 1, 0]`\n",
        "\n",
        "The output has shape `N`x`vocab_size`:\n",
        "\n",
        "`output = [[0.0, 0.5, 0.5],`\n",
        "\n",
        "`[0.3, 0.3, 0.4],`\n",
        "\n",
        "`[0.6, 0.2, 0.2],`\n",
        "\n",
        "`[0.1, 0.2, 0.7]]`\n",
        "\n",
        "The output is a conditional probability (of generating a given next character given previous characters):\n",
        "\n",
        "\n",
        "\n",
        "\n",
        "\n",
        "`output[0][0] = `$p(\\text{next character=\"a\"}|\\text{previous characters=\"b\"})$\n",
        "\n",
        "`output[0][1] = `$p(\\text{next character=\"b\"}|\\text{previous characters=\"b\"})$\n",
        "\n",
        "`output[0][2] = `$p(\\text{next character=\"c\"}|\\text{previous characters=\"b\"})$\n",
        "\n",
        "`output[1][0] = `$p(\\text{next character=\"a\"}|\\text{previous characters=\"bc\"})$\n",
        "\n",
        "...\n",
        "\n",
        "\n",
        "\n",
        "If we want our model to generate `\"bcba\"` with higher probability, we need to maximize the following probabilities:\n",
        "\n",
        "$p(\\text{next character=\"c\"}|\\text{previous characters=\"b\"})$,\n",
        "\n",
        "$p(\\text{next character=\"b\"}|\\text{previous characters=\"bc\"})$ and\n",
        "\n",
        "$p(\\text{next character=\"a\"}|\\text{previous characters=\"bcb\"})$\n",
        "\n",
        "So training a model is basically changing the model's *parameters* in the direction of predciting the correct targets for the input examples we care.\n",
        "\n",
        "**Practice**\n",
        "\n",
        "Some additional thigs are needed:\n",
        "\n",
        "1. End of word token (`\".\"`): our model needs to know when to stop generating a word\n",
        "2. Beginning of word token (`\":\"`): so our model can predict the probability of the first character of the word (unconditional probability)\n",
        "3. Batches and fixed size: to process many words at the same time (in batches), we need to force them to have the same length so we add padding\n",
        "4. The next character targets are simply the input word shifted left\n",
        "5. We maximize the probability of generating the correct targets by *minimizing the cross-entropy between the model outputs and the targets* averaged over the whole dataset (loss)\n",
        "\n"
      ]
    },
    {
      "cell_type": "markdown",
      "metadata": {
        "id": "qFTl4ngpNMJj"
      },
      "source": [
        "**Defining the model**\n",
        "\n",
        "Here we use a decoder-only transformer model (details of the model are not very important).\n",
        "\n",
        "The signature of the model is as follows:\n",
        "\n",
        "Inputs have sizes `[batch_size, word_length]` . In our case word length is `max_characters+2` and `batch_size` is the number of words we want to process in parallel at the same time.\n",
        "\n",
        "Outputs have sizes `[batch_size, word_length, vocab_size]`. For each character we output the probability of the next character being the characters in the vocabulary.\n",
        "\n",
        "`mask_zero` is important to ignore the padding (0s).\n"
      ]
    },
    {
      "cell_type": "code",
      "execution_count": null,
      "metadata": {
        "colab": {
          "base_uri": "https://localhost:8080/"
        },
        "id": "K1zSna4XDchr",
        "outputId": "abf95efb-7b80-4f49-bafe-cedc83d1f4b3"
      },
      "outputs": [
        {
          "output_type": "stream",
          "name": "stdout",
          "text": [
            "  Preparing metadata (setup.py) ... \u001b[?25l\u001b[?25hdone\n"
          ]
        }
      ],
      "source": [
        "!pip install -q git+https://github.com/keras-team/keras-nlp.git --upgrade\n",
        "import keras_nlp\n",
        "from tensorflow import keras\n",
        "\n",
        "def get_model():\n",
        "  decoder_inputs = keras.Input(shape=(None,), dtype=\"int64\")\n",
        "\n",
        "  token_position_embedding = keras_nlp.layers.TokenAndPositionEmbedding(\n",
        "      vocabulary_size=len(tokenizer.get_vocabulary()),\n",
        "      sequence_length=max_characters+1, # to deal with begining and end tokens\n",
        "      embedding_dim=64,\n",
        "      mask_zero=True,\n",
        "  )(decoder_inputs)\n",
        "\n",
        "  decoder = keras_nlp.layers.TransformerDecoder(\n",
        "      intermediate_dim=64, num_heads=8)(token_position_embedding)\n",
        "  \n",
        "  decoder_outputs = keras.layers.Dense(\n",
        "      len(tokenizer.get_vocabulary()),\n",
        "      activation=\"softmax\")(decoder)\n",
        "\n",
        "  model = keras.Model(decoder_inputs, decoder_outputs)\n",
        "  return model\n",
        "model = get_model()"
      ]
    },
    {
      "cell_type": "markdown",
      "metadata": {
        "id": "fRMLHyeaOnCz"
      },
      "source": [
        "**Creating the dataset to train the model**\n",
        "\n",
        "We basically add `\":\"` at the beggining of word and `\".\"` at the end for each word. Then we tokenize. Since what we are predicting is the next character, the target is simply the input shifted by one element (that is why we increased the tokenizer output size by one).\n",
        "\n",
        "We then shuffle the words and create batches to be processed in parallel."
      ]
    },
    {
      "cell_type": "code",
      "execution_count": null,
      "metadata": {
        "id": "IioOcODeKBhq"
      },
      "outputs": [],
      "source": [
        "import tensorflow as tf\n",
        "\n",
        "def preprocess(example):\n",
        "  tokenized = tokenizer(\":\"+example+\".\")\n",
        "  return tokenized[:-1], tokenized[1:] #input, target (shift by 1)\n",
        "\n",
        "BATCH_SIZE=512\n",
        "dataset = tf.data.Dataset.from_tensor_slices(words)\n",
        "dataset = dataset.shuffle(len(words))\n",
        "dataset = dataset.map(preprocess)\n",
        "train_ds = dataset.batch(BATCH_SIZE)\n",
        "eval_ds = dataset.take(int(len(words)*0.1)).batch(BATCH_SIZE)\n"
      ]
    },
    {
      "cell_type": "code",
      "execution_count": null,
      "metadata": {
        "colab": {
          "base_uri": "https://localhost:8080/"
        },
        "id": "E0488Xq1OgE-",
        "outputId": "d098accd-8d0d-4afa-e37e-cbadefd1e1c3"
      },
      "outputs": [
        {
          "output_type": "stream",
          "name": "stdout",
          "text": [
            "Input shape: (512, 25)\n",
            "Output shape: (512, 25, 31)\n",
            "Example input: [29  3 28 17  6 11 21 23 14 18 10 17 16 11  5 30  0  0  0  0  0  0  0  0\n",
            "  0]\n",
            "Example target (shifted by one): [ 3 28 17  6 11 21 23 14 18 10 17 16 11  5 30  0  0  0  0  0  0  0  0  0\n",
            "  0]\n"
          ]
        }
      ],
      "source": [
        "for i in train_ds:\n",
        "  print(f\"Input shape: {i[0].shape}\")\n",
        "  print(f\"Output shape: {model(i[0]).shape}\")\n",
        "  print(f\"Example input: {i[0][0]}\")\n",
        "  print(f\"Example target (shifted by one): {i[1][0]}\")\n",
        "  break"
      ]
    },
    {
      "cell_type": "markdown",
      "metadata": {
        "id": "NN5XbpvXQw9_"
      },
      "source": [
        "**Training the model**\n",
        "\n",
        "Metrics:\n",
        "\n",
        "- Accuracy: the percentage of predictions that correspond to the correct token. Note that it cannot be 100% for this problem, since predicting the first character of a word is impossible (the best you can do is predicting the most frequent first letter in the dataset).\n",
        "\n",
        "- Loss: cross-entropy, the closer to 0 the better. Basically -log(probability of the correct character). If you predict 1 for the correct character, loss for this character is 0. As you predict close to 0 for the correct character, loss goes to infinity (bad).\n",
        "\n",
        "Training corresponds to the process of changing the parameters of the model to minimize the loss (via stochastic gradient descent). At every batch of examples, we calculate a small step in the parameters of the model that reduces the loss for those examples. By seing all examples many times (10 times each: number of epochs) and doing many small steps, accuracy increases and loss decreases."
      ]
    },
    {
      "cell_type": "code",
      "execution_count": null,
      "metadata": {
        "colab": {
          "base_uri": "https://localhost:8080/"
        },
        "id": "iWuQmP0-LlYj",
        "outputId": "463e5636-4555-4b26-8351-31aee2f90454"
      },
      "outputs": [
        {
          "output_type": "stream",
          "name": "stdout",
          "text": [
            "Epoch 1/5\n",
            "461/461 [==============================] - 149s 307ms/step - loss: 2.2635 - accuracy: 0.2979 - val_loss: 2.1045 - val_accuracy: 0.3335\n",
            "Epoch 2/5\n",
            "461/461 [==============================] - 126s 273ms/step - loss: 2.0521 - accuracy: 0.3476 - val_loss: 2.0114 - val_accuracy: 0.3599\n",
            "Epoch 3/5\n",
            "461/461 [==============================] - 124s 269ms/step - loss: 1.9850 - accuracy: 0.3705 - val_loss: 1.9622 - val_accuracy: 0.3787\n",
            "Epoch 4/5\n",
            "461/461 [==============================] - 125s 272ms/step - loss: 1.9506 - accuracy: 0.3820 - val_loss: 1.9379 - val_accuracy: 0.3841\n",
            "Epoch 5/5\n",
            "461/461 [==============================] - 124s 268ms/step - loss: 1.9296 - accuracy: 0.3881 - val_loss: 1.9234 - val_accuracy: 0.3894\n"
          ]
        },
        {
          "output_type": "execute_result",
          "data": {
            "text/plain": [
              "<keras.callbacks.History at 0x7f7469b66940>"
            ]
          },
          "metadata": {},
          "execution_count": 87
        }
      ],
      "source": [
        "model.compile(\n",
        "    \"adam\", loss=\"sparse_categorical_crossentropy\", metrics=[\"accuracy\"]\n",
        ")\n",
        "model.fit(train_ds, epochs=5, validation_data=eval_ds)"
      ]
    },
    {
      "cell_type": "code",
      "execution_count": null,
      "metadata": {
        "id": "63kyyOfRBWz3",
        "cellView": "form"
      },
      "outputs": [],
      "source": [
        "#@title Plotting helper function\n",
        "def plot_probs(word, word_prediction):\n",
        "  import numpy as np\n",
        "  import matplotlib.pyplot as plt\n",
        "  import matplotlib as mpl\n",
        "\n",
        "  # Generate a 2D table of probabilities\n",
        "  probs = np.transpose(word_prediction[0,:len(word)+1])\n",
        "\n",
        "  # Set the colormap to go from red to green\n",
        "  cmap = mpl.colormaps['RdYlGn']\n",
        "\n",
        "  # Plot the table\n",
        "  fig, ax = plt.subplots()\n",
        "  fig.set_size_inches(20, 12) \n",
        "  im = ax.imshow(probs, cmap=cmap, vmin=0, vmax=0.5)\n",
        "\n",
        "  # Set the axis labels and title\n",
        "  ax.set_xlabel('Context')\n",
        "  ax.set_ylabel('Probability')\n",
        "  ax.set_title('Probabilities given current context')\n",
        "\n",
        "  # Add a colorbar to show the probability scale\n",
        "  cbar = ax.figure.colorbar(im, ax=ax)\n",
        "  cbar.ax.set_ylabel('Probability', rotation=-90, va=\"bottom\")\n",
        "  ax.set_yticks(np.arange(len(tokenizer.get_vocabulary())))\n",
        "  ax.set_yticklabels(tokenizer.get_vocabulary())\n",
        "  ax.set_xticks(np.arange(len(word)+1))\n",
        "  ax.set_xticklabels([c for c in \":\"+word])\n",
        "  # Show the plot\n",
        "  plt.show()\n"
      ]
    },
    {
      "cell_type": "markdown",
      "metadata": {
        "id": "zlirOpbN9wQc"
      },
      "source": [
        "**Example**\n",
        "\n",
        "Seeing probabilities for an untrained model.\n",
        "\n",
        "`word = \"suspense\"`\n",
        "\n",
        "We see that probabilities of the correct targets are very low (<0.1)."
      ]
    },
    {
      "cell_type": "code",
      "execution_count": null,
      "metadata": {
        "colab": {
          "base_uri": "https://localhost:8080/"
        },
        "id": "ibfffMd8IGf7",
        "outputId": "e9391c35-002b-4eae-aedb-c98d4b012976"
      },
      "outputs": [
        {
          "output_type": "stream",
          "name": "stdout",
          "text": [
            "s 0.08857344\n",
            "u 0.022091135\n",
            "s 0.037036315\n",
            "p 0.012758678\n",
            "e 0.013449888\n",
            "n 0.011828648\n",
            "s 0.012791555\n",
            "e 0.0135354865\n",
            ". 0.0073774303\n"
          ]
        }
      ],
      "source": [
        "word = \"suspense\"\n",
        "untrained_model = get_model()\n",
        "tokenized_word = tokenizer([\":\"+word+\".\"])[:,:-1]\n",
        "word_prediction = untrained_model(tokenized_word).numpy()\n",
        "for i, c in enumerate(word+'.'):\n",
        "  index = tokenizer.get_vocabulary().index(c)\n",
        "  prob = word_prediction[0,i,index]\n",
        "  print(c, prob)"
      ]
    },
    {
      "cell_type": "code",
      "execution_count": null,
      "metadata": {
        "colab": {
          "base_uri": "https://localhost:8080/",
          "height": 1000
        },
        "id": "RMomGUcnDADW",
        "outputId": "97adf796-2946-49bc-ad25-2795758ceec6"
      },
      "outputs": [
        {
          "output_type": "display_data",
          "data": {
            "text/plain": [
              "<Figure size 2000x1200 with 2 Axes>"
            ],
            "image/png": "[encoded data removed]"
          },
          "metadata": {}
        }
      ],
      "source": [
        "plot_probs(word, word_prediction)"
      ]
    },
    {
      "cell_type": "markdown",
      "metadata": {
        "id": "eGtw6V0j-iia"
      },
      "source": [
        "**After training**\n",
        "\n",
        "Many probabilities are now >0.1"
      ]
    },
    {
      "cell_type": "code",
      "execution_count": null,
      "metadata": {
        "colab": {
          "base_uri": "https://localhost:8080/"
        },
        "id": "srZk3fCtISCL",
        "outputId": "cb235291-d3e5-4490-907f-ae63323eede2"
      },
      "outputs": [
        {
          "output_type": "stream",
          "name": "stdout",
          "text": [
            "s 0.108915545\n",
            "u 0.1502663\n",
            "s 0.011175449\n",
            "p 0.105525196\n",
            "e 0.26858044\n",
            "n 0.1791386\n",
            "s 0.17612417\n",
            "e 0.11196604\n",
            ". 0.1555961\n"
          ]
        }
      ],
      "source": [
        "word_prediction_trained = model(tokenized_word).numpy()\n",
        "for i, c in enumerate(word+'.'):\n",
        "  index = tokenizer.get_vocabulary().index(c)\n",
        "  prob = word_prediction_trained[0,i,index]\n",
        "  print(c, prob)"
      ]
    },
    {
      "cell_type": "code",
      "execution_count": null,
      "metadata": {
        "colab": {
          "base_uri": "https://localhost:8080/",
          "height": 1000
        },
        "id": "3Mfzx-iQFwXA",
        "outputId": "8a7f46f7-df0b-41aa-e063-c12ba2f93d1f"
      },
      "outputs": [
        {
          "output_type": "display_data",
          "data": {
            "text/plain": [
              "<Figure size 2000x1200 with 2 Axes>"
            ],
            "image/png": "[encoded data removed]"
          },
          "metadata": {}
        }
      ],
      "source": [
        "plot_probs(word, word_prediction_trained)"
      ]
    },
    {
      "cell_type": "markdown",
      "metadata": {
        "id": "bVEgaiSc2ewy"
      },
      "source": [
        "# Completion\n",
        "\n",
        "**Practice**\n",
        "\n",
        "If we have a model that can generate good conditional probabilities:\n",
        "\n",
        "$p(\\text{next character}|\\text{previous characters})$\n",
        "\n",
        "we can use it to generate completion suggestions. For example, if the user types `influen`, we pick the next character as  one with the highest probability:\n",
        "\n",
        "$\\text{next_token} = \\text{argmax}_c p(\\text{next character}=c|\\text{previous characters}=\\text{\":influen\"})$\n",
        "\n",
        "Now that we have the next token, we can call the model again with an updated input (including new character) and keep generating until we get the end of work token `\".\"`. This is called **greedy decoding** and it is deterministic.\n",
        "\n",
        "Sometimes, we want to diversify the generations, one way to do this is sample the next character from a distribution defined by the model probabilities instead doing greedy decoding .\n",
        "\n",
        "Example: \n",
        "\n",
        "$p(\\text{next character}|\\text{previous characters}=\\text{\":ca\"})$ = `[(\"t\", 0.9), (\"r\", 0.1), (\"a\", 0.0), ...]`\n",
        "\n",
        "**Greedy**: we always pick `\"t\"` \n",
        "\n",
        "**Sampling**: we pick `\"t\"` 90% of times and `\"r\"` 10% of times\n",
        "\n",
        "**Sampling with temperature**: when temperature is `1.0`, it works as usual sampling. As temperature goes to `0.0`, it behaves more like greedy. As temperature goes to `Inf`, it behaves a a uniform sampler (all characters have same probability of being pick)."
      ]
    },
    {
      "cell_type": "markdown",
      "metadata": {
        "id": "Gh4KltHw-2DG"
      },
      "source": [
        "Seeing next character proabilities"
      ]
    },
    {
      "cell_type": "code",
      "execution_count": null,
      "metadata": {
        "colab": {
          "base_uri": "https://localhost:8080/"
        },
        "id": "cVqZJYU5psNb",
        "outputId": "dc8bafdd-fd9f-478b-e98f-59796d35c166"
      },
      "outputs": [
        {
          "output_type": "stream",
          "name": "stdout",
          "text": [
            "For prefix \"suspens\", the top 5 next character predictions are:\n",
            "\n",
            "Probability Next charcater\n",
            "0.37444684 i\n",
            "0.11196604 e\n",
            "0.06972064 t\n",
            "0.059428226 a\n",
            "0.058793053 h\n"
          ]
        }
      ],
      "source": [
        "import numpy as np\n",
        "prefix = \"suspens\"\n",
        "tokenized_word = tokenizer([\":\"+prefix+\".\"])[:,:-1]\n",
        "prefix_prediction = model(tokenized_word)\n",
        "next_character_pmf = prefix_prediction[0,len(prefix),:].numpy()\n",
        "top_characters = np.argsort(-next_character_pmf)[:5]\n",
        "print(f\"For prefix \\\"{prefix}\\\", the top 5 next character predictions are:\\n\")\n",
        "print(\"Probability\",\"Next charcater\")\n",
        "for i in top_characters:\n",
        "  print(next_character_pmf[i],tokenizer.get_vocabulary()[i])"
      ]
    },
    {
      "cell_type": "markdown",
      "metadata": {
        "id": "SMBD0WkK-5Ji"
      },
      "source": [
        "**Implementing greedy decoding**\n",
        "\n",
        "and generating greedy completion."
      ]
    },
    {
      "cell_type": "code",
      "execution_count": null,
      "metadata": {
        "id": "by_UhH5kkGVT"
      },
      "outputs": [],
      "source": [
        "def greedy_completion(prefix):\n",
        "  tokenized_word = tokenizer([\":\"+prefix+\".\"])[:,:-1]\n",
        "  prefix_prediction = model(tokenized_word)\n",
        "  next_character_pmf = prefix_prediction[0,len(prefix),:].numpy()\n",
        "  return tokenizer.get_vocabulary()[np.argmax(next_character_pmf)]"
      ]
    },
    {
      "cell_type": "code",
      "execution_count": null,
      "metadata": {
        "colab": {
          "base_uri": "https://localhost:8080/"
        },
        "id": "YiYpVettpMr_",
        "outputId": "3595d51a-967a-4ab1-8a11-65bf422b37cf"
      },
      "outputs": [
        {
          "output_type": "stream",
          "name": "stdout",
          "text": [
            "suspens\n",
            "suspensi\n",
            "suspensio\n",
            "suspension\n"
          ]
        }
      ],
      "source": [
        "#greedy\n",
        "prefix = \"suspens\"\n",
        "completion = \"\"\n",
        "next_character =\"\"\n",
        "while next_character != '.':\n",
        "  print(prefix+completion)\n",
        "  next_character = greedy_completion(prefix+completion)\n",
        "  completion = completion + next_character\n",
        "\n"
      ]
    },
    {
      "cell_type": "markdown",
      "metadata": {
        "id": "mfqUNvS2_IlB"
      },
      "source": [
        "**Implementing random decoding**\n",
        "\n",
        "and generating 5 completions."
      ]
    },
    {
      "cell_type": "code",
      "execution_count": null,
      "metadata": {
        "id": "LliDgANlaWMq"
      },
      "outputs": [],
      "source": [
        "def noisy_completion(prefix, T=1):\n",
        "  tokenized_word = tokenizer([\":\"+prefix+\".\"])[:,:-1]\n",
        "  prefix_prediction = model(tokenized_word)\n",
        "  next_character_pmf = list(prefix_prediction[0,len(prefix),:].numpy())\n",
        "  next_character_pmf = [np.exp(np.log(p)/T) for p in next_character_pmf]\n",
        "  next_character_pmf = [p/sum(next_character_pmf) for p in next_character_pmf]\n",
        "  sampled_caracter = np.argmax(np.random.multinomial(1, next_character_pmf))\n",
        "  return tokenizer.get_vocabulary()[sampled_caracter]"
      ]
    },
    {
      "cell_type": "code",
      "execution_count": null,
      "metadata": {
        "colab": {
          "base_uri": "https://localhost:8080/"
        },
        "id": "vowt_qKcwuyU",
        "outputId": "e3e18a9b-02a8-43b4-8bcd-d012b66b85af"
      },
      "outputs": [
        {
          "output_type": "stream",
          "name": "stdout",
          "text": [
            "suspens\n",
            "suspensi\n",
            "suspensio\n",
            "suspension\n",
            "\n",
            "suspens\n",
            "suspense\n",
            "suspenser\n",
            "\n",
            "suspens\n",
            "suspensa\n",
            "suspensal\n",
            "\n",
            "suspens\n",
            "suspensi\n",
            "suspensio\n",
            "suspension\n",
            "\n",
            "suspens\n",
            "suspensi\n",
            "suspensiv\n",
            "suspensive\n",
            "\n"
          ]
        }
      ],
      "source": [
        "# with sampling\n",
        "for _ in range(5):\n",
        "  completion = \"\"\n",
        "  next_character =\"\"\n",
        "  while next_character != '.':\n",
        "    print(prefix+completion)\n",
        "    next_character = noisy_completion(prefix+completion, T=0.5)\n",
        "    completion = completion + next_character\n",
        "  print(\"\")"
      ]
    },
    {
      "cell_type": "markdown",
      "metadata": {
        "id": "0CrlQGfB2iwO"
      },
      "source": [
        "# Auto-correct\n",
        "\n",
        "**Theory**\n",
        "\n",
        "**Calculating word probability (likelihood) from characters's conditional probabilities**\n",
        "\n",
        "With the model trained, we can now make predictions for different words.\n",
        "\n",
        "Model inputs\n",
        "\n",
        "\":apple.\"\n",
        "\n",
        "Model outputs\n",
        "\n",
        "\n",
        "- $p(c_1) $\n",
        "- $p(c_2|\\text{input}=\\text{\"a\"})$\n",
        "- $p(c_3|\\text{input}=\\text{\"ap\"})$\n",
        "- $p(c_4|\\text{input}=\\text{\"app\"})$\n",
        "- $p(c_4|\\text{input}=\\text{\"appl\"})$\n",
        "- ...\n",
        "\n",
        "$p(\\text{\"apple.\"}) \\approx \\prod p(c_1=\\text{\"a\"}) p(c_2=\\text{\"p\"}|\\text{input}=\\text{\"a\"})p(c_3=\\text{\"p\"}|\\text{input}=\\text{\"ap\"})...$\n",
        "\n",
        "$\\log(p(\\text{\"apple.\"})) \\approx \\sum \\log(p(c_1=\\text{\"a\"})) \\log(p(c_2=\\text{\"p\"}|\\text{input}=\\text{\"a\"})) \\log(p(c_3=\\text{\"p\"}|\\text{input}=\\text{\"ap\"}))...$\n",
        "\n",
        "So we can calculate the log-likelihood of a given word and see if it has higher likelihood compared to others (the higher the better).\n",
        "\n",
        "**Practice**\n",
        "\n",
        "Using the word likelihood, we can score words. We can simulate character flipping (ex: `spple` to `apple`). And see if the new word has higher likelihood. If we find a high likelihood word, we can suggest to the user as a more probable correct spelling."
      ]
    },
    {
      "cell_type": "markdown",
      "metadata": {
        "id": "_m25iHdeA0dh"
      },
      "source": [
        "Calculating word log-likelihood."
      ]
    },
    {
      "cell_type": "code",
      "execution_count": null,
      "metadata": {
        "id": "Yc9Ra9G8Sa-y"
      },
      "outputs": [],
      "source": [
        "import math\n",
        "def get_word_log_likelihood(word):\n",
        "  tokenized_word = tokenizer([\":\"+word+\".\"])[:,:-1]\n",
        "  word_prediction = model(tokenized_word)\n",
        "  characters_probs = [\n",
        "      word_prediction[0,i,tokenizer.get_vocabulary().index(c)].numpy() \n",
        "      for i, c in enumerate(word+'.')]\n",
        "  return sum([math.log(p) for p in characters_probs])/len(word) # normalized\n"
      ]
    },
    {
      "cell_type": "markdown",
      "metadata": {
        "id": "-U91fDbYA7pa"
      },
      "source": [
        "Test with different corruptions."
      ]
    },
    {
      "cell_type": "code",
      "execution_count": null,
      "metadata": {
        "colab": {
          "base_uri": "https://localhost:8080/"
        },
        "id": "P95JyChrS284",
        "outputId": "95c40936-1ba9-4b49-8eba-f4e915543457"
      },
      "outputs": [
        {
          "output_type": "stream",
          "name": "stdout",
          "text": [
            "The length-normalized log-likelihood of apple (correct spelling) is -2.7358903781415607\n",
            "The length-normalized log-likelihood of aplle (substitution) is -3.3012193721593066\n",
            "The length-normalized log-likelihood of applye (insertion) is -2.8022479146291115\n",
            "The length-normalized log-likelihood of aple (deletion) is -3.4950420861773077\n"
          ]
        }
      ],
      "source": [
        "for w, comment in [(\"apple\", \"correct spelling\"), \n",
        "                   (\"aplle\", \"substitution\"), \n",
        "                   (\"applye\", \"insertion\"), \n",
        "                   (\"aple\",\"deletion\")]:\n",
        "  print((f\"The length-normalized log-likelihood of {w} ({comment})\"\n",
        "  f\" is {get_word_log_likelihood(w)}\"))\n"
      ]
    },
    {
      "cell_type": "markdown",
      "metadata": {
        "id": "Et7yh6-6ZYIk"
      },
      "source": [
        "**Autocorrect substitutions**\n",
        "\n",
        "For a given word, calculates the log-likelihood. Try all possible single substitutions (replace first letter to all possible ones, then second, then third...). Get the word with higher likelihood, if it is different than the original, it can be proposed as the correct spelling."
      ]
    },
    {
      "cell_type": "code",
      "execution_count": null,
      "metadata": {
        "colab": {
          "base_uri": "https://localhost:8080/"
        },
        "id": "SDSzqQHOX2eC",
        "outputId": "2f6afba7-69f1-434f-93d9-3f2a07e3b977"
      },
      "outputs": [
        {
          "output_type": "stream",
          "name": "stdout",
          "text": [
            "Suggesting 5 spellings for aplle\n"
          ]
        },
        {
          "output_type": "execute_result",
          "data": {
            "text/plain": [
              "[[-2.7358903781415607, 'apple'],\n",
              " [-2.7425804574083976, 'aulle'],\n",
              " [-2.7511633515777696, 'apile'],\n",
              " [-2.8300284170329943, 'apole'],\n",
              " [-2.867730463136043, 'apale']]"
            ]
          },
          "metadata": {},
          "execution_count": 105
        }
      ],
      "source": [
        "def auto_correct(word):\n",
        "  words_log_likelihoods = []\n",
        "  for i in range(len(word)):\n",
        "    for c in unique_characters:\n",
        "      if c!=word[i]:\n",
        "        new_word = word[:i]+c+word[i+1:] # substitution\n",
        "        words_log_likelihoods.append(\n",
        "            [get_word_log_likelihood(new_word), new_word])\n",
        "  words_log_likelihoods.append([get_word_log_likelihood(word), word])\n",
        "  words_log_likelihoods.sort(key=lambda x: x[0], reverse=True)\n",
        "  return words_log_likelihoods\n",
        "\n",
        "word = \"aplle\"\n",
        "print(f\"Suggesting 5 spellings for {word}\")\n",
        "auto_correct(word)[:5] # take best 5"
      ]
    },
    {
      "cell_type": "code",
      "execution_count": null,
      "metadata": {
        "colab": {
          "base_uri": "https://localhost:8080/"
        },
        "id": "ckoNppFbLb4d",
        "outputId": "8c5eb0f2-7727-4bd8-cd87-1a64dca5a898"
      },
      "outputs": [
        {
          "output_type": "stream",
          "name": "stdout",
          "text": [
            "Suggesting 5 spellings for disasrer\n"
          ]
        },
        {
          "output_type": "execute_result",
          "data": {
            "text/plain": [
              "[[-2.031544767697674, 'disaster'],\n",
              " [-2.2854765980168965, 'disatrer'],\n",
              " [-2.320291037787102, 'disabrer'],\n",
              " [-2.3392334875444627, 'disaurer'],\n",
              " [-2.35020286926235, 'disarrer']]"
            ]
          },
          "metadata": {},
          "execution_count": 106
        }
      ],
      "source": [
        "word = \"disasrer\"\n",
        "print(f\"Suggesting 5 spellings for {word}\")\n",
        "auto_correct(word)[:5] # take best 5"
      ]
    }
  ],
  "metadata": {
    "colab": {
      "provenance": []
    },
    "kernelspec": {
      "display_name": "Python 3",
      "name": "python3"
    },
    "language_info": {
      "name": "python"
    }
  },
  "nbformat": 4,
  "nbformat_minor": 0
}